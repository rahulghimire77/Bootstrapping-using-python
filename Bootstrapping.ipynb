{
 "cells": [
  {
   "cell_type": "code",
   "execution_count": 4,
   "id": "c51458ba-c74c-4ce4-8bad-a47d6abb83cb",
   "metadata": {},
   "outputs": [
    {
     "name": "stdout",
     "output_type": "stream",
     "text": [
      "Estimated Duration for 120m bridge: 17.63 months\n",
      "Standard Deviation of the estimate: 0.85 months\n"
     ]
    }
   ],
   "source": [
    "import numpy as np\n",
    "import pandas as pd\n",
    "from sklearn.linear_model import LinearRegression\n",
    "from sklearn.utils import resample\n",
    "\n",
    "data = {\n",
    "    'Length': [100, 50, 75, 65, 90, 110, 115, 150],\n",
    "    'Duration': [15.3, 10.6, 11.1, 11, 14.2, 15.4, 16.4, 24.5]\n",
    "}\n",
    "\n",
    "df = pd.DataFrame(data)\n",
    "\n",
    "new_bridge_length = 120\n",
    "\n",
    "df['Length_squared'] = df['Length'] ** 2\n",
    "X = df[['Length', 'Length_squared']]\n",
    "y = df['Duration']\n",
    "n_bootstraps = 10000\n",
    "bootstrap_predictions = []\n",
    "\n",
    "for i in range(n_bootstraps):\n",
    "    X_resampled, y_resampled = resample(X, y, random_state=i)\n",
    "    \n",
    "    model = LinearRegression()\n",
    "    model.fit(X_resampled, y_resampled)\n",
    "    \n",
    "    new_bridge_features = pd.DataFrame([[new_bridge_length, new_bridge_length ** 2]], columns=['Length', 'Length_squared'])\n",
    "    predicted_duration = model.predict(new_bridge_features)[0]\n",
    "    \n",
    "    bootstrap_predictions.append(predicted_duration)\n",
    "    \n",
    "mean_duration = np.mean(bootstrap_predictions)\n",
    "std_duration = np.std(bootstrap_predictions)\n",
    "\n",
    "print(f\"Estimated Duration for 120m bridge: {mean_duration:.2f} months\")\n",
    "print(f\"Standard Deviation of the estimate: {std_duration:.2f} months\")\n"
   ]
  },
  {
   "cell_type": "code",
   "execution_count": null,
   "id": "9e78164a-dc53-4c34-9dd7-a33f2956d1fe",
   "metadata": {},
   "outputs": [],
   "source": []
  }
 ],
 "metadata": {
  "kernelspec": {
   "display_name": "Python 3 (ipykernel)",
   "language": "python",
   "name": "python3"
  },
  "language_info": {
   "codemirror_mode": {
    "name": "ipython",
    "version": 3
   },
   "file_extension": ".py",
   "mimetype": "text/x-python",
   "name": "python",
   "nbconvert_exporter": "python",
   "pygments_lexer": "ipython3",
   "version": "3.13.0"
  }
 },
 "nbformat": 4,
 "nbformat_minor": 5
}
